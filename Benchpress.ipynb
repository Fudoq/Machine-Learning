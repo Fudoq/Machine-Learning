{
 "cells": [
  {
   "cell_type": "code",
   "execution_count": 25,
   "metadata": {},
   "outputs": [],
   "source": [
    "import numpy as np\n",
    "import pandas as pd\n",
    "import seaborn as sns\n",
    "import matplotlib.pyplot as plt\n"
   ]
  },
  {
   "cell_type": "markdown",
   "metadata": {},
   "source": [
    "# Infos und Übersicht"
   ]
  },
  {
   "cell_type": "code",
   "execution_count": 26,
   "metadata": {},
   "outputs": [
    {
     "data": {
      "text/html": [
       "<div>\n",
       "<style scoped>\n",
       "    .dataframe tbody tr th:only-of-type {\n",
       "        vertical-align: middle;\n",
       "    }\n",
       "\n",
       "    .dataframe tbody tr th {\n",
       "        vertical-align: top;\n",
       "    }\n",
       "\n",
       "    .dataframe thead th {\n",
       "        text-align: right;\n",
       "    }\n",
       "</style>\n",
       "<table border=\"1\" class=\"dataframe\">\n",
       "  <thead>\n",
       "    <tr style=\"text-align: right;\">\n",
       "      <th></th>\n",
       "      <th>playerId</th>\n",
       "      <th>Name</th>\n",
       "      <th>Sex</th>\n",
       "      <th>Equipment</th>\n",
       "      <th>Age</th>\n",
       "      <th>BodyweightKg</th>\n",
       "      <th>BestSquatKg</th>\n",
       "      <th>BestDeadliftKg</th>\n",
       "    </tr>\n",
       "  </thead>\n",
       "  <tbody>\n",
       "    <tr>\n",
       "      <th>0</th>\n",
       "      <td>19391.0</td>\n",
       "      <td>Carlos Ceron</td>\n",
       "      <td>M</td>\n",
       "      <td>Raw</td>\n",
       "      <td>23.0</td>\n",
       "      <td>87.30</td>\n",
       "      <td>205.0</td>\n",
       "      <td>235.0</td>\n",
       "    </tr>\n",
       "    <tr>\n",
       "      <th>1</th>\n",
       "      <td>15978.0</td>\n",
       "      <td>Tito Herrera</td>\n",
       "      <td>M</td>\n",
       "      <td>Wraps</td>\n",
       "      <td>23.0</td>\n",
       "      <td>73.48</td>\n",
       "      <td>220.0</td>\n",
       "      <td>260.0</td>\n",
       "    </tr>\n",
       "    <tr>\n",
       "      <th>2</th>\n",
       "      <td>27209.0</td>\n",
       "      <td>Levi Lehman</td>\n",
       "      <td>M</td>\n",
       "      <td>Raw</td>\n",
       "      <td>26.0</td>\n",
       "      <td>112.40</td>\n",
       "      <td>142.5</td>\n",
       "      <td>220.0</td>\n",
       "    </tr>\n",
       "    <tr>\n",
       "      <th>3</th>\n",
       "      <td>27496.0</td>\n",
       "      <td>Stacy Hayford</td>\n",
       "      <td>F</td>\n",
       "      <td>Raw</td>\n",
       "      <td>35.0</td>\n",
       "      <td>59.42</td>\n",
       "      <td>95.0</td>\n",
       "      <td>102.5</td>\n",
       "    </tr>\n",
       "    <tr>\n",
       "      <th>4</th>\n",
       "      <td>20293.0</td>\n",
       "      <td>Brittany Hirt</td>\n",
       "      <td>F</td>\n",
       "      <td>Raw</td>\n",
       "      <td>26.5</td>\n",
       "      <td>61.40</td>\n",
       "      <td>105.0</td>\n",
       "      <td>127.5</td>\n",
       "    </tr>\n",
       "  </tbody>\n",
       "</table>\n",
       "</div>"
      ],
      "text/plain": [
       "   playerId           Name Sex Equipment   Age  BodyweightKg BestSquatKg  \\\n",
       "0   19391.0   Carlos Ceron   M       Raw  23.0         87.30       205.0   \n",
       "1   15978.0   Tito Herrera   M     Wraps  23.0         73.48       220.0   \n",
       "2   27209.0    Levi Lehman   M       Raw  26.0        112.40       142.5   \n",
       "3   27496.0  Stacy Hayford   F       Raw  35.0         59.42        95.0   \n",
       "4   20293.0  Brittany Hirt   F       Raw  26.5         61.40       105.0   \n",
       "\n",
       "   BestDeadliftKg  \n",
       "0           235.0  \n",
       "1           260.0  \n",
       "2           220.0  \n",
       "3           102.5  \n",
       "4           127.5  "
      ]
     },
     "execution_count": 26,
     "metadata": {},
     "output_type": "execute_result"
    }
   ],
   "source": [
    "rawdata = pd.read_csv(\"Data.csv\")\n",
    "#rawdata[\"ART\"] = pd.Categorical(rawdata.ART, ['Flat', 'Attached', 'House'])\n",
    "rawdata.head()"
   ]
  },
  {
   "cell_type": "markdown",
   "metadata": {},
   "source": [
    "# Fehlende Werte"
   ]
  },
  {
   "cell_type": "code",
   "execution_count": 27,
   "metadata": {},
   "outputs": [
    {
     "name": "stdout",
     "output_type": "stream",
     "text": [
      "<class 'pandas.core.frame.DataFrame'>\n",
      "RangeIndex: 18900 entries, 0 to 18899\n",
      "Data columns (total 8 columns):\n",
      " #   Column          Non-Null Count  Dtype  \n",
      "---  ------          --------------  -----  \n",
      " 0   playerId        18900 non-null  float64\n",
      " 1   Name            18900 non-null  object \n",
      " 2   Sex             18900 non-null  object \n",
      " 3   Equipment       18900 non-null  object \n",
      " 4   Age             18725 non-null  float64\n",
      " 5   BodyweightKg    18900 non-null  float64\n",
      " 6   BestSquatKg     18900 non-null  object \n",
      " 7   BestDeadliftKg  18900 non-null  float64\n",
      "dtypes: float64(4), object(4)\n",
      "memory usage: 1.2+ MB\n",
      "None\n",
      "playerId            0\n",
      "Name                0\n",
      "Sex                 0\n",
      "Equipment           0\n",
      "Age               175\n",
      "BodyweightKg        0\n",
      "BestSquatKg         0\n",
      "BestDeadliftKg      0\n",
      "dtype: int64\n"
     ]
    }
   ],
   "source": [
    "# Check missing values\n",
    "\n",
    "print(rawdata.info())                                                      #Infos über Datentypen/Werte \n",
    "print(rawdata.isnull().sum())                                               #Fehlende Werte \n",
    "# Dealing with missing values\n",
    "# (1) Deleting the column with missing values\n",
    "# rawdata = rawdata.dropna(axis=1)\n",
    "\n",
    "# (2) Deleting the row with missing values\n",
    "# rawdata = rawdata.dropna(axis=0)\n",
    "\n",
    "# (3) Imputation - filling the missing values\n",
    "#rawdata['PRICE'] = rawdata['PRICE'].fillna(rawdata['PRICE'].median())"
   ]
  }
 ],
 "metadata": {
  "kernelspec": {
   "display_name": "AI",
   "language": "python",
   "name": "python3"
  },
  "language_info": {
   "codemirror_mode": {
    "name": "ipython",
    "version": 3
   },
   "file_extension": ".py",
   "mimetype": "text/x-python",
   "name": "python",
   "nbconvert_exporter": "python",
   "pygments_lexer": "ipython3",
   "version": "3.12.0"
  }
 },
 "nbformat": 4,
 "nbformat_minor": 2
}
